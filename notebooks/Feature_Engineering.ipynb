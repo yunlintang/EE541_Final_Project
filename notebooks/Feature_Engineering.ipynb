{
 "cells": [
  {
   "cell_type": "code",
   "execution_count": 34,
   "id": "2814bac8",
   "metadata": {},
   "outputs": [],
   "source": [
    "import pandas as pd\n",
    "import numpy as np\n",
    "import matplotlib.pyplot as plt\n",
    "\n",
    "from ast import literal_eval\n",
    "\n",
    "import torch\n",
    "import torch.nn as nn\n",
    "import torch.nn.functional as F\n",
    "import torch.optim as optim"
   ]
  },
  {
   "cell_type": "code",
   "execution_count": 5,
   "id": "d44d0688",
   "metadata": {},
   "outputs": [
    {
     "name": "stdout",
     "output_type": "stream",
     "text": [
      "tensor([[ 0.1074,  1.3224, -3.1241,  0.6903, -0.8838]],\n",
      "       grad_fn=<EmbeddingBackward>)\n"
     ]
    }
   ],
   "source": [
    "word_to_ix = {\"hello\": 0, \"world\": 1}\n",
    "embeds = nn.Embedding(2, 5)  # 2 words in vocab, 5 dimensional embeddings\n",
    "lookup_tensor = torch.tensor([word_to_ix[\"hello\"]], dtype=torch.long)\n",
    "hello_embed = embeds(lookup_tensor)\n",
    "print(hello_embed)"
   ]
  },
  {
   "cell_type": "code",
   "execution_count": 6,
   "id": "17e72638",
   "metadata": {},
   "outputs": [
    {
     "data": {
      "text/plain": [
       "tensor([0])"
      ]
     },
     "execution_count": 6,
     "metadata": {},
     "output_type": "execute_result"
    }
   ],
   "source": [
    "lookup_tensor"
   ]
  },
  {
   "cell_type": "code",
   "execution_count": 37,
   "id": "fcd33050",
   "metadata": {},
   "outputs": [
    {
     "data": {
      "text/plain": [
       "14795"
      ]
     },
     "execution_count": 37,
     "metadata": {},
     "output_type": "execute_result"
    }
   ],
   "source": [
    "df = pd.read_csv('../data/interim/keywords_clean.csv',index_col=0)\n",
    "df['keywords']"
   ]
  },
  {
   "cell_type": "code",
   "execution_count": 38,
   "id": "d4f358c5",
   "metadata": {},
   "outputs": [
    {
     "data": {
      "text/html": [
       "<div>\n",
       "<style scoped>\n",
       "    .dataframe tbody tr th:only-of-type {\n",
       "        vertical-align: middle;\n",
       "    }\n",
       "\n",
       "    .dataframe tbody tr th {\n",
       "        vertical-align: top;\n",
       "    }\n",
       "\n",
       "    .dataframe thead th {\n",
       "        text-align: right;\n",
       "    }\n",
       "</style>\n",
       "<table border=\"1\" class=\"dataframe\">\n",
       "  <thead>\n",
       "    <tr style=\"text-align: right;\">\n",
       "      <th></th>\n",
       "      <th>cast</th>\n",
       "      <th>crew</th>\n",
       "      <th>id</th>\n",
       "    </tr>\n",
       "  </thead>\n",
       "  <tbody>\n",
       "    <tr>\n",
       "      <th>0</th>\n",
       "      <td>['Tom Hanks', 'Tim Allen', 'Don Rickles', 'Jim...</td>\n",
       "      <td>['John Lasseter']</td>\n",
       "      <td>862</td>\n",
       "    </tr>\n",
       "    <tr>\n",
       "      <th>1</th>\n",
       "      <td>['Robin Williams', 'Jonathan Hyde', 'Kirsten D...</td>\n",
       "      <td>['Joe Johnston']</td>\n",
       "      <td>8844</td>\n",
       "    </tr>\n",
       "    <tr>\n",
       "      <th>2</th>\n",
       "      <td>['Walter Matthau', 'Jack Lemmon', 'Ann-Margret...</td>\n",
       "      <td>['Howard Deutch']</td>\n",
       "      <td>15602</td>\n",
       "    </tr>\n",
       "    <tr>\n",
       "      <th>3</th>\n",
       "      <td>['Whitney Houston', 'Angela Bassett', 'Loretta...</td>\n",
       "      <td>['Forest Whitaker']</td>\n",
       "      <td>31357</td>\n",
       "    </tr>\n",
       "    <tr>\n",
       "      <th>4</th>\n",
       "      <td>['Steve Martin', 'Diane Keaton', 'Martin Short...</td>\n",
       "      <td>['Charles Shyer']</td>\n",
       "      <td>11862</td>\n",
       "    </tr>\n",
       "    <tr>\n",
       "      <th>...</th>\n",
       "      <td>...</td>\n",
       "      <td>...</td>\n",
       "      <td>...</td>\n",
       "    </tr>\n",
       "    <tr>\n",
       "      <th>45471</th>\n",
       "      <td>['Leila Hatami', 'Kourosh Tahami', 'Elham Korda']</td>\n",
       "      <td>['Hamid Nematollah']</td>\n",
       "      <td>439050</td>\n",
       "    </tr>\n",
       "    <tr>\n",
       "      <th>45472</th>\n",
       "      <td>['Angel Aquino', 'Perry Dizon', 'Hazel Orencio...</td>\n",
       "      <td>['Lav Diaz']</td>\n",
       "      <td>111109</td>\n",
       "    </tr>\n",
       "    <tr>\n",
       "      <th>45473</th>\n",
       "      <td>['Erika Eleniak', 'Adam Baldwin', 'Julie du Pa...</td>\n",
       "      <td>['Mark L. Lester']</td>\n",
       "      <td>67758</td>\n",
       "    </tr>\n",
       "    <tr>\n",
       "      <th>45474</th>\n",
       "      <td>['Iwan Mosschuchin', 'Nathalie Lissenko', 'Pav...</td>\n",
       "      <td>['Yakov Protazanov']</td>\n",
       "      <td>227506</td>\n",
       "    </tr>\n",
       "    <tr>\n",
       "      <th>45475</th>\n",
       "      <td>NaN</td>\n",
       "      <td>['Daisy Asquith']</td>\n",
       "      <td>461257</td>\n",
       "    </tr>\n",
       "  </tbody>\n",
       "</table>\n",
       "<p>45476 rows × 3 columns</p>\n",
       "</div>"
      ],
      "text/plain": [
       "                                                    cast  \\\n",
       "0      ['Tom Hanks', 'Tim Allen', 'Don Rickles', 'Jim...   \n",
       "1      ['Robin Williams', 'Jonathan Hyde', 'Kirsten D...   \n",
       "2      ['Walter Matthau', 'Jack Lemmon', 'Ann-Margret...   \n",
       "3      ['Whitney Houston', 'Angela Bassett', 'Loretta...   \n",
       "4      ['Steve Martin', 'Diane Keaton', 'Martin Short...   \n",
       "...                                                  ...   \n",
       "45471  ['Leila Hatami', 'Kourosh Tahami', 'Elham Korda']   \n",
       "45472  ['Angel Aquino', 'Perry Dizon', 'Hazel Orencio...   \n",
       "45473  ['Erika Eleniak', 'Adam Baldwin', 'Julie du Pa...   \n",
       "45474  ['Iwan Mosschuchin', 'Nathalie Lissenko', 'Pav...   \n",
       "45475                                                NaN   \n",
       "\n",
       "                       crew      id  \n",
       "0         ['John Lasseter']     862  \n",
       "1          ['Joe Johnston']    8844  \n",
       "2         ['Howard Deutch']   15602  \n",
       "3       ['Forest Whitaker']   31357  \n",
       "4         ['Charles Shyer']   11862  \n",
       "...                     ...     ...  \n",
       "45471  ['Hamid Nematollah']  439050  \n",
       "45472          ['Lav Diaz']  111109  \n",
       "45473    ['Mark L. Lester']   67758  \n",
       "45474  ['Yakov Protazanov']  227506  \n",
       "45475     ['Daisy Asquith']  461257  \n",
       "\n",
       "[45476 rows x 3 columns]"
      ]
     },
     "execution_count": 38,
     "metadata": {},
     "output_type": "execute_result"
    }
   ],
   "source": [
    "df = pd.read_csv('../data/interim/credits_clean.csv',index_col=0)\n",
    "df"
   ]
  }
 ],
 "metadata": {
  "kernelspec": {
   "display_name": "Python 3 (ipykernel)",
   "language": "python",
   "name": "python3"
  },
  "language_info": {
   "codemirror_mode": {
    "name": "ipython",
    "version": 3
   },
   "file_extension": ".py",
   "mimetype": "text/x-python",
   "name": "python",
   "nbconvert_exporter": "python",
   "pygments_lexer": "ipython3",
   "version": "3.8.12"
  }
 },
 "nbformat": 4,
 "nbformat_minor": 5
}
