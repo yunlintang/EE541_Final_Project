{
 "cells": [
  {
   "cell_type": "code",
   "execution_count": 6,
   "id": "d3eda204",
   "metadata": {},
   "outputs": [],
   "source": [
    "import pandas as pd\n",
    "import numpy as np\n",
    "\n",
    "from os import listdir\n",
    "\n",
    "import torch\n",
    "import torch.nn as nn\n",
    "import torch.nn.functional as F\n",
    "import torchvision\n",
    "import torchvision.transforms as transforms\n",
    "import torch.utils.data as Data\n",
    "\n",
    "from sklearn.model_selection import train_test_split\n",
    "from sklearn.linear_model import LinearRegression"
   ]
  },
  {
   "cell_type": "code",
   "execution_count": 5,
   "id": "7f5b9d46",
   "metadata": {},
   "outputs": [],
   "source": [
    "def select_vectorizer(inpath):\n",
    "    '''\n",
    "    function for evaluate different vectorizers on the cleaned \n",
    "    combined final dataset. to modify the vectorizer, change the\n",
    "    value of \"title\" and \"overview\" in the \"config/params.json\".\n",
    "    Ex. use Doc2Vec for title feature, then assign \"title\":\"title_doc2vec.txt\";\n",
    "    use hashing for overview feature, then assign \"overview\":\"overview_hash.txt\"\n",
    "    \n",
    "    Param:\n",
    "        inpath: the path for final dataset\n",
    "        \n",
    "    Returns:\n",
    "        the R2 score of the fitted regressor on test set\n",
    "    '''\n",
    "    # evaluate the result for different vectorizers\n",
    "    df = pd.read_csv(inpath+\"data.csv\")\n",
    "    df['runtime'] = df['runtime'].fillna(0)\n",
    "\n",
    "    # get the training and testing data\n",
    "    X = df.drop(columns=['score'])\n",
    "    y = df['score']\n",
    "    X_train, X_test, y_train, y_test = train_test_split(X,y,train_size=0.7)\n",
    "\n",
    "    # train a linear regressor\n",
    "    reg = LinearRegression()\n",
    "    reg.fit(X_train,y_train)\n",
    "    score = reg.score(X_test,y_test)\n",
    "\n",
    "    return score"
   ]
  }
 ],
 "metadata": {
  "kernelspec": {
   "display_name": "Python 3 (ipykernel)",
   "language": "python",
   "name": "python3"
  },
  "language_info": {
   "codemirror_mode": {
    "name": "ipython",
    "version": 3
   },
   "file_extension": ".py",
   "mimetype": "text/x-python",
   "name": "python",
   "nbconvert_exporter": "python",
   "pygments_lexer": "ipython3",
   "version": "3.8.12"
  }
 },
 "nbformat": 4,
 "nbformat_minor": 5
}
