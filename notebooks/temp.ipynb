{
 "cells": [
  {
   "cell_type": "code",
   "execution_count": 5,
   "id": "d3eda204",
   "metadata": {},
   "outputs": [],
   "source": [
    "import pandas as pd\n",
    "import numpy as np\n",
    "\n",
    "import torch\n",
    "import torch.nn as nn\n",
    "import torch.nn.functional as F\n",
    "import torchvision\n",
    "import torchvision.transforms as transforms\n",
    "import torch.utils.data as Data\n",
    "\n",
    "from sklearn.model_selection import train_test_split\n",
    "from sklearn.linear_model import LinearRegression"
   ]
  },
  {
   "cell_type": "code",
   "execution_count": 21,
   "id": "db6da7bf",
   "metadata": {},
   "outputs": [],
   "source": [
    "class Net(nn.Module):\n",
    "    def __init__(self, n_input, n_hidden=(1000, 500), n_output=1, drop_out=0.3):\n",
    "        super(Net, self).__init__()\n",
    "        self.hidden1 = nn.Linear(n_input, n_hidden[0])\n",
    "        self.hidden2 = nn.Linear(n_hidden[0], n_hidden[1])\n",
    "        self.output = nn.Linear(n_hidden[1], n_output)\n",
    "        self.dropout = nn.Dropout(p=drop_out)\n",
    "\n",
    "    def forward(self, input_data):\n",
    "        out = F.relu(self.hidden1(input_data))\n",
    "        out = self.dropout(out)\n",
    "        out = F.relu(self.hidden2(out))\n",
    "        out = self.dropout(out)\n",
    "        out = self.output(out)\n",
    "        return out"
   ]
  },
  {
   "cell_type": "code",
   "execution_count": 2,
   "id": "135e5480",
   "metadata": {},
   "outputs": [],
   "source": [
    "df = pd.read_csv('../data/final/data.csv')\n",
    "df['runtime'] = df['runtime'].fillna(0)"
   ]
  },
  {
   "cell_type": "code",
   "execution_count": 3,
   "id": "0297cc8d",
   "metadata": {},
   "outputs": [],
   "source": [
    "X = df.drop(columns=['score'])\n",
    "y = df['score']\n",
    "X_train, X_test, y_train, y_test = train_test_split(X,y,train_size=0.7)"
   ]
  },
  {
   "cell_type": "code",
   "execution_count": 7,
   "id": "12cac2ab",
   "metadata": {},
   "outputs": [
    {
     "data": {
      "text/plain": [
       "0.2534112065807522"
      ]
     },
     "execution_count": 7,
     "metadata": {},
     "output_type": "execute_result"
    }
   ],
   "source": [
    "# doc2vec\n",
    "df = pd.read_csv('../data/final/data.csv')\n",
    "df['runtime'] = df['runtime'].fillna(0)\n",
    "\n",
    "X = df.drop(columns=['score'])\n",
    "y = df['score']\n",
    "X_train, X_test, y_train, y_test = train_test_split(X,y,train_size=0.7)\n",
    "\n",
    "reg = LinearRegression()\n",
    "reg.fit(X_train,y_train)\n",
    "reg.score(X_test,y_test)"
   ]
  },
  {
   "cell_type": "code",
   "execution_count": 8,
   "id": "861cf623",
   "metadata": {},
   "outputs": [
    {
     "data": {
      "text/plain": [
       "0.23126046174368609"
      ]
     },
     "execution_count": 8,
     "metadata": {},
     "output_type": "execute_result"
    }
   ],
   "source": [
    "# senbert\n",
    "df = pd.read_csv('../data/final/data.csv')\n",
    "df['runtime'] = df['runtime'].fillna(0)\n",
    "\n",
    "X = df.drop(columns=['score'])\n",
    "y = df['score']\n",
    "X_train, X_test, y_train, y_test = train_test_split(X,y,train_size=0.7)\n",
    "\n",
    "reg = LinearRegression()\n",
    "reg.fit(X_train,y_train)\n",
    "reg.score(X_test,y_test)"
   ]
  },
  {
   "cell_type": "code",
   "execution_count": 9,
   "id": "a76a18dd",
   "metadata": {},
   "outputs": [
    {
     "data": {
      "text/plain": [
       "-2.9996184748691166e+21"
      ]
     },
     "execution_count": 9,
     "metadata": {},
     "output_type": "execute_result"
    }
   ],
   "source": [
    "# hash\n",
    "df = pd.read_csv('../data/final/data.csv')\n",
    "df['runtime'] = df['runtime'].fillna(0)\n",
    "\n",
    "X = df.drop(columns=['score'])\n",
    "y = df['score']\n",
    "X_train, X_test, y_train, y_test = train_test_split(X,y,train_size=0.7)\n",
    "\n",
    "reg = LinearRegression()\n",
    "reg.fit(X_train,y_train)\n",
    "reg.score(X_test,y_test)"
   ]
  },
  {
   "cell_type": "code",
   "execution_count": null,
   "id": "ee41dae4",
   "metadata": {},
   "outputs": [],
   "source": []
  },
  {
   "cell_type": "code",
   "execution_count": null,
   "id": "cdb98e43",
   "metadata": {},
   "outputs": [],
   "source": []
  },
  {
   "cell_type": "code",
   "execution_count": 14,
   "id": "517965cd",
   "metadata": {},
   "outputs": [],
   "source": [
    "learning_rate = 0.0001\n",
    "epochs = 40\n",
    "batch_size = 500\n",
    "num_batch = df.shape[0]/batch_size\n",
    "num_features = df.shape[1]"
   ]
  },
  {
   "cell_type": "code",
   "execution_count": 20,
   "id": "45e0ce23",
   "metadata": {},
   "outputs": [],
   "source": [
    "tensor_x = torch.Tensor(X_train.to_numpy())\n",
    "tensor_y = torch.Tensor(y_train.to_numpy())\n",
    "torch_train = Data.TensorDataset(tensor_x, tensor_y)\n",
    "train_loader = Data.DataLoader(\n",
    "    dataset=torch_train,\n",
    "    batch_size=batch_size,\n",
    "    shuffle=True\n",
    ")"
   ]
  },
  {
   "cell_type": "code",
   "execution_count": 22,
   "id": "4ba51d29",
   "metadata": {},
   "outputs": [],
   "source": [
    "model = Net(n_input=num_features-1)\n",
    "optimizer = torch.optim.Adam(model.parameters(), lr=learning_rate, weight_decay=0.0001)\n",
    "loss_func = nn.MSELoss()"
   ]
  },
  {
   "cell_type": "code",
   "execution_count": 23,
   "id": "84a10689",
   "metadata": {
    "scrolled": true
   },
   "outputs": [
    {
     "name": "stderr",
     "output_type": "stream",
     "text": [
      "C:\\Users\\yunli\\.conda\\envs\\ee541\\lib\\site-packages\\torch\\nn\\modules\\loss.py:528: UserWarning: Using a target size (torch.Size([500])) that is different to the input size (torch.Size([500, 1])). This will likely lead to incorrect results due to broadcasting. Please ensure they have the same size.\n",
      "  return F.mse_loss(input, target, reduction=self.reduction)\n",
      "C:\\Users\\yunli\\.conda\\envs\\ee541\\lib\\site-packages\\torch\\nn\\modules\\loss.py:528: UserWarning: Using a target size (torch.Size([327])) that is different to the input size (torch.Size([327, 1])). This will likely lead to incorrect results due to broadcasting. Please ensure they have the same size.\n",
      "  return F.mse_loss(input, target, reduction=self.reduction)\n"
     ]
    },
    {
     "name": "stdout",
     "output_type": "stream",
     "text": [
      "Epoch:0, loss: 21.916841506958008\n",
      "Epoch:1, loss: 2.921008348464966\n",
      "Epoch:2, loss: 1.77553391456604\n",
      "Epoch:3, loss: 1.8652973175048828\n",
      "Epoch:4, loss: 1.6262379884719849\n",
      "Epoch:5, loss: 1.314542293548584\n",
      "Epoch:6, loss: 1.3715587854385376\n",
      "Epoch:7, loss: 1.4611188173294067\n",
      "Epoch:8, loss: 1.3148210048675537\n",
      "Epoch:9, loss: 1.1087292432785034\n",
      "Epoch:10, loss: 1.2975704669952393\n",
      "Epoch:11, loss: 0.9542529582977295\n",
      "Epoch:12, loss: 1.120751142501831\n",
      "Epoch:13, loss: 1.0796483755111694\n",
      "Epoch:14, loss: 1.014443278312683\n",
      "Epoch:15, loss: 0.9284206628799438\n",
      "Epoch:16, loss: 0.9231082797050476\n",
      "Epoch:17, loss: 0.9281946420669556\n",
      "Epoch:18, loss: 0.9444873929023743\n",
      "Epoch:19, loss: 0.9362640976905823\n",
      "Epoch:20, loss: 0.8446686863899231\n",
      "Epoch:21, loss: 0.7514570355415344\n",
      "Epoch:22, loss: 0.8729962706565857\n",
      "Epoch:23, loss: 0.8023645281791687\n",
      "Epoch:24, loss: 0.8452249765396118\n",
      "Epoch:25, loss: 0.8508412837982178\n",
      "Epoch:26, loss: 0.7939625978469849\n",
      "Epoch:27, loss: 0.7208309769630432\n",
      "Epoch:28, loss: 0.6886375546455383\n",
      "Epoch:29, loss: 0.7892127633094788\n",
      "Epoch:30, loss: 0.82650226354599\n",
      "Epoch:31, loss: 0.7484952807426453\n",
      "Epoch:32, loss: 0.7823820114135742\n",
      "Epoch:33, loss: 0.7212581038475037\n",
      "Epoch:34, loss: 0.7674765586853027\n",
      "Epoch:35, loss: 0.7126826047897339\n",
      "Epoch:36, loss: 0.7347670793533325\n",
      "Epoch:37, loss: 0.8528135418891907\n",
      "Epoch:38, loss: 0.9487199187278748\n",
      "Epoch:39, loss: 0.7928355932235718\n",
      "Finished Training\n"
     ]
    }
   ],
   "source": [
    "for ep in range(epochs):\n",
    "    for sample_feature, score in train_loader:\n",
    "        y_hat = model(sample_feature)\n",
    "        loss = loss_func(y_hat, score)\n",
    "\n",
    "        optimizer.zero_grad()\n",
    "        loss.backward()\n",
    "\n",
    "        optimizer.step()\n",
    "    print(f'Epoch:{ep}, loss: {loss.data}')\n",
    "\n",
    "print(\"Finished Training\")"
   ]
  }
 ],
 "metadata": {
  "kernelspec": {
   "display_name": "Python 3 (ipykernel)",
   "language": "python",
   "name": "python3"
  },
  "language_info": {
   "codemirror_mode": {
    "name": "ipython",
    "version": 3
   },
   "file_extension": ".py",
   "mimetype": "text/x-python",
   "name": "python",
   "nbconvert_exporter": "python",
   "pygments_lexer": "ipython3",
   "version": "3.8.12"
  }
 },
 "nbformat": 4,
 "nbformat_minor": 5
}
