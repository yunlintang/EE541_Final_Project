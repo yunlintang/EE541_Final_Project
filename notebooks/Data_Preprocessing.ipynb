{
 "cells": [
  {
   "cell_type": "code",
   "execution_count": 1,
   "id": "e2a68d91",
   "metadata": {},
   "outputs": [],
   "source": [
    "import pandas as pd\n",
    "import numpy as np\n",
    "import matplotlib.pyplot as plt\n",
    "import json\n",
    "import re"
   ]
  },
  {
   "cell_type": "markdown",
   "id": "41a453cf",
   "metadata": {},
   "source": [
    "# Movies_Metadata"
   ]
  },
  {
   "cell_type": "markdown",
   "id": "09c5d2cb",
   "metadata": {},
   "source": [
    "### Drop NULL's"
   ]
  },
  {
   "cell_type": "code",
   "execution_count": 2,
   "id": "02ec19db",
   "metadata": {},
   "outputs": [
    {
     "name": "stdout",
     "output_type": "stream",
     "text": [
      "<class 'pandas.core.frame.DataFrame'>\n",
      "RangeIndex: 45466 entries, 0 to 45465\n",
      "Data columns (total 24 columns):\n",
      " #   Column                 Non-Null Count  Dtype  \n",
      "---  ------                 --------------  -----  \n",
      " 0   adult                  45466 non-null  object \n",
      " 1   belongs_to_collection  4494 non-null   object \n",
      " 2   budget                 45466 non-null  object \n",
      " 3   genres                 45466 non-null  object \n",
      " 4   homepage               7782 non-null   object \n",
      " 5   id                     45466 non-null  object \n",
      " 6   imdb_id                45449 non-null  object \n",
      " 7   original_language      45455 non-null  object \n",
      " 8   original_title         45466 non-null  object \n",
      " 9   overview               44512 non-null  object \n",
      " 10  popularity             45461 non-null  object \n",
      " 11  poster_path            45080 non-null  object \n",
      " 12  production_companies   45463 non-null  object \n",
      " 13  production_countries   45463 non-null  object \n",
      " 14  release_date           45379 non-null  object \n",
      " 15  revenue                45460 non-null  float64\n",
      " 16  runtime                45203 non-null  float64\n",
      " 17  spoken_languages       45460 non-null  object \n",
      " 18  status                 45379 non-null  object \n",
      " 19  tagline                20412 non-null  object \n",
      " 20  title                  45460 non-null  object \n",
      " 21  video                  45460 non-null  object \n",
      " 22  vote_average           45460 non-null  float64\n",
      " 23  vote_count             45460 non-null  float64\n",
      "dtypes: float64(4), object(20)\n",
      "memory usage: 8.3+ MB\n"
     ]
    }
   ],
   "source": [
    "# read data\n",
    "df_mm = pd.read_csv('../data/raw/movies_metadata.csv',low_memory=False)\n",
    "df_mm.info()"
   ]
  },
  {
   "cell_type": "code",
   "execution_count": 3,
   "id": "8562bc6f",
   "metadata": {},
   "outputs": [
    {
     "name": "stdout",
     "output_type": "stream",
     "text": [
      "adult                    0.000000\n",
      "belongs_to_collection    0.901157\n",
      "budget                   0.000000\n",
      "genres                   0.000000\n",
      "homepage                 0.828839\n",
      "id                       0.000000\n",
      "imdb_id                  0.000374\n",
      "original_language        0.000242\n",
      "original_title           0.000000\n",
      "overview                 0.020983\n",
      "popularity               0.000110\n",
      "poster_path              0.008490\n",
      "production_companies     0.000066\n",
      "production_countries     0.000066\n",
      "release_date             0.001914\n",
      "revenue                  0.000132\n",
      "runtime                  0.005785\n",
      "spoken_languages         0.000132\n",
      "status                   0.001914\n",
      "tagline                  0.551049\n",
      "title                    0.000132\n",
      "video                    0.000132\n",
      "vote_average             0.000132\n",
      "vote_count               0.000132\n",
      "dtype: float64\n"
     ]
    }
   ],
   "source": [
    "# check null values in percentage\n",
    "print(df_mm.isna().sum(axis=0)/len(df_mm))\n",
    "# drop the columns with too many null values and the irrelevant columns\n",
    "df_mm = df_mm.drop(columns=['belongs_to_collection','homepage','tagline',\n",
    "                            'poster_path'])"
   ]
  },
  {
   "cell_type": "markdown",
   "id": "2ea35d43",
   "metadata": {},
   "source": [
    "### Convert JSON to list"
   ]
  },
  {
   "cell_type": "code",
   "execution_count": 4,
   "id": "4426353a",
   "metadata": {},
   "outputs": [],
   "source": [
    "def Spok_Lang(x):\n",
    "    '''\n",
    "    For spoken_languages feature:\n",
    "    Input a string of JSON, get the values for which the\n",
    "    keys are \"iso_639_1\" (stands for country code) then \n",
    "    convert the string into a list\n",
    "    '''\n",
    "    if ((x is np.nan) or (x=='[]')):\n",
    "        return np.nan\n",
    "    \n",
    "    # would have invalid escape error\n",
    "    x = re.sub(r'\\\\','',x)\n",
    "    x_json = json.loads(x.replace(\"\\'\",\"\\\"\"))\n",
    "    return [i['iso_639_1'] for i in x_json] \n",
    "\n",
    "df_mm['spoken_languages'] = df_mm['spoken_languages'].apply(Spok_Lang)"
   ]
  },
  {
   "cell_type": "code",
   "execution_count": 5,
   "id": "5efa1b20",
   "metadata": {},
   "outputs": [],
   "source": [
    "def Gen(x):\n",
    "    '''\n",
    "    For genres feature:\n",
    "    Input a string of JSON, get the values for which the\n",
    "    keys are \"name\" then convert the string into a list\n",
    "    '''\n",
    "    if ((x is np.nan) or (x=='[]')):\n",
    "        return np.nan\n",
    "    \n",
    "    x_json = json.loads(x.replace(\"\\'\",\"\\\"\"))\n",
    "    return [i['name'] for i in x_json]\n",
    "\n",
    "df_mm['genres'] = df_mm['genres'].apply(Gen)"
   ]
  },
  {
   "cell_type": "code",
   "execution_count": 6,
   "id": "a9515e8a",
   "metadata": {},
   "outputs": [],
   "source": [
    "def Prod_Count(x):\n",
    "    '''\n",
    "    For production_countries feature:\n",
    "    Input a string of JSON, get the values for which the\n",
    "    keys are \"iso_639_1\" (stands for country code) then \n",
    "    convert the string into a list\n",
    "    '''\n",
    "    if ((x is np.nan) or (x=='[]')):\n",
    "        return np.nan\n",
    "    \n",
    "    try:\n",
    "        # some observations have ill-formatted values\n",
    "        # just drop them\n",
    "        x_json = json.loads(x.replace(\"\\'\",\"\\\"\"))\n",
    "        x_list = [i['iso_3166_1'] for i in x_json]\n",
    "    except:\n",
    "        return np.nan\n",
    "    \n",
    "    x_json = json.loads(x.replace(\"\\'\",\"\\\"\"))\n",
    "    return [i['iso_3166_1'] for i in x_json]\n",
    "\n",
    "df_mm['production_countries'] = df_mm['production_countries'].apply(Prod_Count)"
   ]
  },
  {
   "cell_type": "code",
   "execution_count": 7,
   "id": "22377a7d",
   "metadata": {},
   "outputs": [],
   "source": [
    "def Prod_Com(x):\n",
    "    '''\n",
    "    For production_companies feature:\n",
    "    Input a string of JSON, get the values for which the\n",
    "    keys are \"name\" then convert the string into a list\n",
    "    '''\n",
    "    if ((x is np.nan) or (x=='[]')):\n",
    "        return np.nan\n",
    "    \n",
    "    try:\n",
    "        # some observations have ill-formatted values\n",
    "        # just drop them\n",
    "        x_json = json.loads(x.replace(\"\\'\",\"\\\"\"))\n",
    "        x_list = [i['name'] for i in x_json]\n",
    "    except:\n",
    "        return np.nan\n",
    "    \n",
    "    x_json = json.loads(x.replace(\"\\'\",\"\\\"\"))\n",
    "    return [i['name'] for i in x_json]\n",
    "\n",
    "df_mm['production_companies'] = df_mm['production_companies'].apply(Prod_Com)"
   ]
  },
  {
   "cell_type": "markdown",
   "id": "30e0f7cd",
   "metadata": {},
   "source": [
    "### Convert Other Features"
   ]
  },
  {
   "cell_type": "code",
   "execution_count": 8,
   "id": "71e0e8f9",
   "metadata": {},
   "outputs": [],
   "source": [
    "# convert the date string to datetime\n",
    "df_mm['release_date'] = pd.to_datetime(df_mm['release_date'],errors='coerce')\n",
    "\n",
    "# convert to boolean values\n",
    "df_mm['adult'] = df_mm['adult'].apply(lambda x: True if x == 'True' else False)"
   ]
  },
  {
   "cell_type": "code",
   "execution_count": 9,
   "id": "301eb321",
   "metadata": {},
   "outputs": [],
   "source": [
    "def ConvertToFloat(x):\n",
    "    '''\n",
    "    for feature budget: convert the string\n",
    "    into float. If the input is ill-formatted,\n",
    "    then return Nan\n",
    "    '''\n",
    "    try:\n",
    "        float(x)\n",
    "    except:\n",
    "        return np.nan\n",
    "    return float(x)\n",
    "\n",
    "df_mm['budget'] = df_mm['budget'].apply(ConvertToFloat)\n",
    "df_mm['popularity'] = df_mm['popularity'].apply(ConvertToFloat)"
   ]
  },
  {
   "cell_type": "markdown",
   "id": "fe2ed5f4",
   "metadata": {},
   "source": [
    "### Combine into One Function"
   ]
  },
  {
   "cell_type": "code",
   "execution_count": 10,
   "id": "9585c64c",
   "metadata": {},
   "outputs": [],
   "source": [
    "def PreprocessMM(inpath,outpath,save=False):\n",
    "    '''\n",
    "    clean the raw movies_metadata.csv dataset\n",
    "    \n",
    "    Params:\n",
    "        path: path of the input dataset(Ex. '../data/raw/movies_metadata.csv')\n",
    "        save: specify if the cleaned dataset \n",
    "              need to be saved in the '../data/interim/'\n",
    "    '''\n",
    "    # read data\n",
    "    filename = \"movies_metadata.csv\"\n",
    "    df_mm = pd.read_csv(inpath+filename,low_memory=False)\n",
    "    # drop columns\n",
    "    df_mm = df_mm.drop(columns=['belongs_to_collection','homepage','tagline','poster_path'])\n",
    "    \n",
    "    # convert JSON in string to list\n",
    "    df_mm['spoken_languages'] = df_mm['spoken_languages'].apply(Spok_Lang)\n",
    "    df_mm['genres'] = df_mm['genres'].apply(Gen)\n",
    "    df_mm['production_countries'] = df_mm['production_countries'].apply(Prod_Count)\n",
    "    df_mm['production_companies'] = df_mm['production_companies'].apply(Prod_Com)\n",
    "    \n",
    "    # convert the date string to datetime\n",
    "    df_mm['release_date'] = pd.to_datetime(df_mm['release_date'],errors='coerce')\n",
    "    # convert to boolean values\n",
    "    df_mm['adult'] = df_mm['adult'].apply(lambda x: True if x == 'True' else False)\n",
    "    # convert from string to float\n",
    "    df_mm['budget'] = df_mm['budget'].apply(ConvertToFloat)\n",
    "    df_mm['popularity'] = df_mm['popularity'].apply(ConvertToFloat)\n",
    "    \n",
    "    if save:\n",
    "        filename = \"movies_metadata_clean.csv\"\n",
    "        df_mm.to_csv(outpath+filename)\n",
    "        print(\"the cleaned dataset of movies_metadata is saved in {}\".format(outpath))\n",
    "    \n",
    "    return df_mm"
   ]
  },
  {
   "cell_type": "markdown",
   "id": "0a402464",
   "metadata": {},
   "source": [
    "# Credits"
   ]
  },
  {
   "cell_type": "markdown",
   "id": "859bc372",
   "metadata": {},
   "source": [
    "### Convert JSON to list"
   ]
  },
  {
   "cell_type": "code",
   "execution_count": 31,
   "id": "58976215",
   "metadata": {},
   "outputs": [
    {
     "data": {
      "text/plain": [
       "cast    0\n",
       "crew    0\n",
       "id      0\n",
       "dtype: int64"
      ]
     },
     "execution_count": 31,
     "metadata": {},
     "output_type": "execute_result"
    }
   ],
   "source": [
    "# read data\n",
    "df_c = pd.read_csv(\"../data/raw/credits.csv\")\n",
    "# print nan\n",
    "df_c.isna().sum()"
   ]
  },
  {
   "cell_type": "code",
   "execution_count": 12,
   "id": "71260e88",
   "metadata": {},
   "outputs": [],
   "source": [
    "def Cas(x):\n",
    "    '''\n",
    "    For cast feature:\n",
    "    Input a string of JSON, get the values for which the\n",
    "    keys are \"name\"(name of actors) then convert the string into a list\n",
    "    '''\n",
    "    # remove some invalid char\n",
    "    x = re.sub(\"\\\"[^\\\"]*\\\",\",\"null,\",x)\n",
    "    x = x.replace(\"\\\"\", \"\")\n",
    "    x = x.replace(\"\\'\",\"\\\"\").replace(\"None\",\"null\")\n",
    "    x = re.sub(r'\\\\','',x)\n",
    "    try:\n",
    "        x_json = json.loads(x)\n",
    "    except:\n",
    "        return\n",
    "    return [i['name'] for i in x_json]\n",
    "\n",
    "df_c['cast'] = df_c['cast'].apply(Cas)"
   ]
  },
  {
   "cell_type": "code",
   "execution_count": 39,
   "id": "6dab1e62",
   "metadata": {
    "scrolled": false
   },
   "outputs": [],
   "source": [
    "def Cre(x):\n",
    "    '''\n",
    "    For crew feature:\n",
    "    Input a string of JSON, get the values for which the\n",
    "    keys are \"name\"(name of directors) then convert the string into a list\n",
    "    '''\n",
    "    x = re.sub(\"\\\"[^\\\"]*\\\",\",\"null,\",x)\n",
    "    x = x.replace(\"\\\"\", \"\")\n",
    "    x = x.replace(\"\\'\",\"\\\"\").replace(\"None\",\"null\")\n",
    "    x = re.sub(r'\\\\','',x)\n",
    "    x_json = json.loads(x)\n",
    "    x_list = [i['name'] for i in x_json if i['job'] == 'Director' ]\n",
    "    if len(x_list) == 0:\n",
    "        return \n",
    "    return x_list\n",
    "\n",
    "df_c['crew'] = df_c['crew'].apply(Cre)"
   ]
  },
  {
   "cell_type": "markdown",
   "id": "50c813e9",
   "metadata": {},
   "source": [
    "### Combine Into One Function"
   ]
  },
  {
   "cell_type": "code",
   "execution_count": 42,
   "id": "e08f56a7",
   "metadata": {},
   "outputs": [],
   "source": [
    "def PreprocessC(inpath,outpath,save=False):\n",
    "    '''\n",
    "    clean the raw credits.csv dataset\n",
    "    \n",
    "    Params:\n",
    "        path: path of the input dataset(Ex. '../data/raw/credits.csv')\n",
    "        save: specify if the cleaned dataset \n",
    "              need to be saved in the '../data/interim/'\n",
    "    '''\n",
    "    # read data\n",
    "    filename = \"credits.csv\"\n",
    "    df_c = pd.read_csv(inpath+filename)\n",
    "    \n",
    "    # convert the json data\n",
    "    df_c['cast'] = df_c['cast'].apply(Cas)\n",
    "    df_c['crew'] = df_c['crew'].apply(Cre)\n",
    "    \n",
    "    if save:\n",
    "        filename = \"credits_clean.csv\"\n",
    "        df_c.to_csv(outpath+filename)\n",
    "        print(\"the cleaned dataset of credits is saved in {}\".format(outpath))\n",
    "    \n",
    "    return df_c"
   ]
  },
  {
   "cell_type": "code",
   "execution_count": null,
   "id": "1dcd6cca",
   "metadata": {},
   "outputs": [],
   "source": []
  }
 ],
 "metadata": {
  "kernelspec": {
   "display_name": "Python 3 (ipykernel)",
   "language": "python",
   "name": "python3"
  },
  "language_info": {
   "codemirror_mode": {
    "name": "ipython",
    "version": 3
   },
   "file_extension": ".py",
   "mimetype": "text/x-python",
   "name": "python",
   "nbconvert_exporter": "python",
   "pygments_lexer": "ipython3",
   "version": "3.8.12"
  }
 },
 "nbformat": 4,
 "nbformat_minor": 5
}
