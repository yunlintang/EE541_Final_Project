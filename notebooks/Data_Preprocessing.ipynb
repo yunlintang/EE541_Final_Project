{
 "cells": [
  {
   "cell_type": "code",
   "execution_count": 1,
   "id": "e2a68d91",
   "metadata": {},
   "outputs": [],
   "source": [
    "import pandas as pd\n",
    "import numpy as np\n",
    "import matplotlib.pyplot as plt\n",
    "import json\n",
    "import re"
   ]
  },
  {
   "cell_type": "markdown",
   "id": "7f0e1acf",
   "metadata": {},
   "source": [
    "# Movies_Metadata"
   ]
  },
  {
   "cell_type": "markdown",
   "id": "e90c7d9e",
   "metadata": {},
   "source": [
    "### Drop NULL's"
   ]
  },
  {
   "cell_type": "code",
   "execution_count": 2,
   "id": "02ec19db",
   "metadata": {},
   "outputs": [
    {
     "name": "stdout",
     "output_type": "stream",
     "text": [
      "<class 'pandas.core.frame.DataFrame'>\n",
      "RangeIndex: 45466 entries, 0 to 45465\n",
      "Data columns (total 24 columns):\n",
      " #   Column                 Non-Null Count  Dtype  \n",
      "---  ------                 --------------  -----  \n",
      " 0   adult                  45466 non-null  object \n",
      " 1   belongs_to_collection  4494 non-null   object \n",
      " 2   budget                 45466 non-null  object \n",
      " 3   genres                 45466 non-null  object \n",
      " 4   homepage               7782 non-null   object \n",
      " 5   id                     45466 non-null  object \n",
      " 6   imdb_id                45449 non-null  object \n",
      " 7   original_language      45455 non-null  object \n",
      " 8   original_title         45466 non-null  object \n",
      " 9   overview               44512 non-null  object \n",
      " 10  popularity             45461 non-null  object \n",
      " 11  poster_path            45080 non-null  object \n",
      " 12  production_companies   45463 non-null  object \n",
      " 13  production_countries   45463 non-null  object \n",
      " 14  release_date           45379 non-null  object \n",
      " 15  revenue                45460 non-null  float64\n",
      " 16  runtime                45203 non-null  float64\n",
      " 17  spoken_languages       45460 non-null  object \n",
      " 18  status                 45379 non-null  object \n",
      " 19  tagline                20412 non-null  object \n",
      " 20  title                  45460 non-null  object \n",
      " 21  video                  45460 non-null  object \n",
      " 22  vote_average           45460 non-null  float64\n",
      " 23  vote_count             45460 non-null  float64\n",
      "dtypes: float64(4), object(20)\n",
      "memory usage: 8.3+ MB\n"
     ]
    }
   ],
   "source": [
    "# read data\n",
    "df_mm = pd.read_csv('../data/raw/movies_metadata.csv',low_memory=False)\n",
    "df_mm.info()"
   ]
  },
  {
   "cell_type": "code",
   "execution_count": 3,
   "id": "c7b5a575",
   "metadata": {},
   "outputs": [
    {
     "name": "stdout",
     "output_type": "stream",
     "text": [
      "adult                    0.000000\n",
      "belongs_to_collection    0.901157\n",
      "budget                   0.000000\n",
      "genres                   0.000000\n",
      "homepage                 0.828839\n",
      "id                       0.000000\n",
      "imdb_id                  0.000374\n",
      "original_language        0.000242\n",
      "original_title           0.000000\n",
      "overview                 0.020983\n",
      "popularity               0.000110\n",
      "poster_path              0.008490\n",
      "production_companies     0.000066\n",
      "production_countries     0.000066\n",
      "release_date             0.001914\n",
      "revenue                  0.000132\n",
      "runtime                  0.005785\n",
      "spoken_languages         0.000132\n",
      "status                   0.001914\n",
      "tagline                  0.551049\n",
      "title                    0.000132\n",
      "video                    0.000132\n",
      "vote_average             0.000132\n",
      "vote_count               0.000132\n",
      "dtype: float64\n"
     ]
    }
   ],
   "source": [
    "# check null values in percentage\n",
    "print(df_mm.isna().sum(axis=0)/len(df_mm))\n",
    "# drop the columns with too many null values and the irrelevant columns\n",
    "df_mm = df_mm.drop(columns=['belongs_to_collection','homepage','tagline',\n",
    "                            'poster_path'])"
   ]
  },
  {
   "cell_type": "code",
   "execution_count": 4,
   "id": "6e0c3f2b",
   "metadata": {},
   "outputs": [
    {
     "name": "stdout",
     "output_type": "stream",
     "text": [
      "empty values for genres: 2442\n",
      "empty values for production_companies: 11875\n",
      "empty values for production_countries: 6282\n",
      "empty values for spoken_languages: 3829\n"
     ]
    }
   ],
   "source": [
    "# check null values in each feature\n",
    "print(\"empty values for genres:\", (df_mm['genres'] == '[]').sum())\n",
    "print(\"empty values for production_companies:\", (df_mm['production_companies'] == '[]').sum())\n",
    "print(\"empty values for production_countries:\", (df_mm['production_countries'] == '[]').sum())\n",
    "print(\"empty values for spoken_languages:\", (df_mm['spoken_languages'] == '[]').sum())"
   ]
  },
  {
   "cell_type": "markdown",
   "id": "3f17804d",
   "metadata": {},
   "source": [
    "### Convert JSON to list"
   ]
  },
  {
   "cell_type": "code",
   "execution_count": 5,
   "id": "20de56b3",
   "metadata": {},
   "outputs": [],
   "source": [
    "def Spok_Lang(x):\n",
    "    '''\n",
    "    For spoken_languages feature:\n",
    "    Input a string of JSON, get the values for which the\n",
    "    keys are \"iso_639_1\" (stands for country code) then \n",
    "    convert the string into a list\n",
    "    '''\n",
    "    if ((x is np.nan) or (x=='[]')):\n",
    "        return np.nan\n",
    "    \n",
    "    # would have invalid escape error\n",
    "    x = re.sub(r'\\\\','',x)\n",
    "    x_json = json.loads(x.replace(\"\\'\",\"\\\"\"))\n",
    "    return [i['iso_639_1'] for i in x_json] \n",
    "\n",
    "df_mm['spoken_languages'] = df_mm['spoken_languages'].apply(Spok_Lang)"
   ]
  },
  {
   "cell_type": "code",
   "execution_count": 6,
   "id": "ea4fff5f",
   "metadata": {},
   "outputs": [],
   "source": [
    "def Gen(x):\n",
    "    '''\n",
    "    For genres feature:\n",
    "    Input a string of JSON, get the values for which the\n",
    "    keys are \"name\" then convert the string into a list\n",
    "    '''\n",
    "    if ((x is np.nan) or (x=='[]')):\n",
    "        return np.nan\n",
    "    \n",
    "    x_json = json.loads(x.replace(\"\\'\",\"\\\"\"))\n",
    "    return [i['name'] for i in x_json]\n",
    "\n",
    "df_mm['genres'] = df_mm['genres'].apply(Gen)"
   ]
  },
  {
   "cell_type": "code",
   "execution_count": 7,
   "id": "867c7b83",
   "metadata": {},
   "outputs": [],
   "source": [
    "def Prod_Count(x):\n",
    "    '''\n",
    "    For production_countries feature:\n",
    "    Input a string of JSON, get the values for which the\n",
    "    keys are \"iso_639_1\" (stands for country code) then \n",
    "    convert the string into a list\n",
    "    '''\n",
    "    if ((x is np.nan) or (x=='[]')):\n",
    "        return np.nan\n",
    "    \n",
    "    try:\n",
    "        # some observations have ill-formatted values just drop them\n",
    "        x_json = json.loads(x.replace(\"\\'\",\"\\\"\"))\n",
    "        x_list = [i['iso_3166_1'] for i in x_json]\n",
    "    except:\n",
    "        return np.nan\n",
    "    \n",
    "    return x_list\n",
    "\n",
    "df_mm['production_countries'] = df_mm['production_countries'].apply(Prod_Count)"
   ]
  },
  {
   "cell_type": "code",
   "execution_count": 8,
   "id": "ce928e9a",
   "metadata": {},
   "outputs": [],
   "source": [
    "def Prod_Com(x):\n",
    "    '''\n",
    "    For production_companies feature:\n",
    "    Input a string of JSON, get the values for which the\n",
    "    keys are \"name\" then convert the string into a list\n",
    "    '''\n",
    "    if ((x is np.nan) or (x=='[]')):\n",
    "        return np.nan\n",
    "    \n",
    "    try:\n",
    "        # some observations have ill-formatted values just drop them\n",
    "        x_json = json.loads(x.replace(\"\\'\",\"\\\"\"))\n",
    "        x_list = [i['name'] for i in x_json]\n",
    "    except:\n",
    "        return np.nan\n",
    "    \n",
    "    return x_list\n",
    "\n",
    "df_mm['production_companies'] = df_mm['production_companies'].apply(Prod_Com)"
   ]
  },
  {
   "cell_type": "markdown",
   "id": "4750343e",
   "metadata": {},
   "source": [
    "### Convert Other Features"
   ]
  },
  {
   "cell_type": "code",
   "execution_count": 9,
   "id": "8dba6967",
   "metadata": {},
   "outputs": [],
   "source": [
    "# convert the date string to datetime\n",
    "df_mm['release_date'] = pd.to_datetime(df_mm['release_date'],errors='coerce')\n",
    "\n",
    "# convert to boolean values\n",
    "df_mm['adult'] = df_mm['adult'].apply(lambda x: True if x == 'True' else False)"
   ]
  },
  {
   "cell_type": "code",
   "execution_count": 10,
   "id": "f04d8f0f",
   "metadata": {},
   "outputs": [],
   "source": [
    "def ConvertToFloat(x):\n",
    "    '''\n",
    "    for feature budget: convert the string\n",
    "    into float. If the input is ill-formatted,\n",
    "    then return Nan\n",
    "    '''\n",
    "    try:\n",
    "        float(x)\n",
    "    except:\n",
    "        return np.nan\n",
    "    return float(x)\n",
    "\n",
    "df_mm['budget'] = df_mm['budget'].apply(ConvertToFloat)\n",
    "df_mm['popularity'] = df_mm['popularity'].apply(ConvertToFloat)"
   ]
  },
  {
   "cell_type": "markdown",
   "id": "e12cf914",
   "metadata": {},
   "source": [
    "### Combine into One Function"
   ]
  },
  {
   "cell_type": "code",
   "execution_count": 11,
   "id": "ab98856e",
   "metadata": {},
   "outputs": [
    {
     "data": {
      "text/plain": [
       "adult                       0\n",
       "budget                      3\n",
       "genres                   2442\n",
       "id                          0\n",
       "imdb_id                    17\n",
       "original_language          11\n",
       "original_title              0\n",
       "overview                  954\n",
       "popularity                  6\n",
       "production_companies    12365\n",
       "production_countries     6293\n",
       "release_date               90\n",
       "revenue                     6\n",
       "runtime                   263\n",
       "spoken_languages         3835\n",
       "status                     87\n",
       "title                       6\n",
       "video                       6\n",
       "vote_average                6\n",
       "vote_count                  6\n",
       "dtype: int64"
      ]
     },
     "execution_count": 11,
     "metadata": {},
     "output_type": "execute_result"
    }
   ],
   "source": [
    "# print the null values after cleaning\n",
    "df_mm.isna().sum()"
   ]
  },
  {
   "cell_type": "code",
   "execution_count": 12,
   "id": "7de9cb1e",
   "metadata": {},
   "outputs": [],
   "source": [
    "def PreprocessMM(inpath,outpath,save=False):\n",
    "    '''\n",
    "    clean the raw movies_metadata.csv dataset\n",
    "    \n",
    "    Params:\n",
    "        path: path of the input dataset(Ex. '../data/raw/movies_metadata.csv')\n",
    "        save: specify if the cleaned dataset \n",
    "              need to be saved in the '../data/interim/'\n",
    "    '''\n",
    "    # read data\n",
    "    filename = \"movies_metadata.csv\"\n",
    "    df_mm = pd.read_csv(inpath+filename,low_memory=False)\n",
    "    # drop columns\n",
    "    df_mm = df_mm.drop(columns=['belongs_to_collection','homepage','tagline','poster_path'])\n",
    "    \n",
    "    # convert JSON in string to list\n",
    "    df_mm['spoken_languages'] = df_mm['spoken_languages'].apply(Spok_Lang)\n",
    "    df_mm['genres'] = df_mm['genres'].apply(Gen)\n",
    "    df_mm['production_countries'] = df_mm['production_countries'].apply(Prod_Count)\n",
    "    df_mm['production_companies'] = df_mm['production_companies'].apply(Prod_Com)\n",
    "    \n",
    "    # convert the date string to datetime\n",
    "    df_mm['release_date'] = pd.to_datetime(df_mm['release_date'],errors='coerce')\n",
    "    # convert to boolean values\n",
    "    df_mm['adult'] = df_mm['adult'].apply(lambda x: True if x == 'True' else False)\n",
    "    # convert from string to float\n",
    "    df_mm['budget'] = df_mm['budget'].apply(ConvertToFloat)\n",
    "    df_mm['popularity'] = df_mm['popularity'].apply(ConvertToFloat)\n",
    "    \n",
    "    if save:\n",
    "        filename = \"movies_metadata_clean.csv\"\n",
    "        df_mm.to_csv(outpath+filename)\n",
    "        print(\"the cleaned dataset of movies_metadata is saved in {}\".format(outpath))\n",
    "    \n",
    "    return df_mm"
   ]
  },
  {
   "cell_type": "markdown",
   "id": "f3cb3500",
   "metadata": {},
   "source": [
    "# Credits"
   ]
  },
  {
   "cell_type": "markdown",
   "id": "470d2d03",
   "metadata": {},
   "source": [
    "### Convert JSON to list"
   ]
  },
  {
   "cell_type": "code",
   "execution_count": 13,
   "id": "5080c8b9",
   "metadata": {},
   "outputs": [
    {
     "name": "stdout",
     "output_type": "stream",
     "text": [
      "empty values in cast: 2418\n",
      "empty values in crew: 771\n"
     ]
    }
   ],
   "source": [
    "# read data\n",
    "df_c = pd.read_csv(\"../data/raw/credits.csv\")\n",
    "# print nan\n",
    "df_c.isna().sum()\n",
    "# print empty vector\n",
    "print(\"empty values in cast:\",(df_c['cast'] == '[]').sum())\n",
    "print(\"empty values in crew:\",(df_c['crew'] == '[]').sum())"
   ]
  },
  {
   "cell_type": "code",
   "execution_count": 14,
   "id": "8023f8e6",
   "metadata": {},
   "outputs": [],
   "source": [
    "def Cas(X):\n",
    "    '''\n",
    "    For cast feature:\n",
    "    Input a string of JSON, get the values for which the\n",
    "    keys are \"name\"(name of actors) then convert the string into a list\n",
    "    '''\n",
    "    # remove some invalid char\n",
    "    x = re.sub(\"\\\"[^\\\"]*\\\",\",\"null,\",X)\n",
    "    x = re.sub(\"\\\"[^\\\"]*\\\"}\",\"null}\",x)\n",
    "    x = x.replace(\"\\\"\", \"\")\n",
    "    x = x.replace(\"\\'\",\"\\\"\").replace(\"None\",\"null\")\n",
    "    # replace the character into null\n",
    "    x = re.sub(r'\\\\','',x)\n",
    "    x = re.sub(\"\\\"character\\\":\\s.+?(?=,\\s\\\")\",\"\\\"character\\\": null\",x)\n",
    "    \n",
    "    try:\n",
    "        x_json = json.loads(x)\n",
    "    except:\n",
    "        return\n",
    "    \n",
    "    x_list = [i['name'] for i in x_json]\n",
    "    \n",
    "    if len(x_list) == 0:\n",
    "        return\n",
    "    return x_list\n",
    "\n",
    "df_c['cast'] = df_c['cast'].apply(Cas)"
   ]
  },
  {
   "cell_type": "code",
   "execution_count": 15,
   "id": "fd6d3f27",
   "metadata": {
    "scrolled": false
   },
   "outputs": [],
   "source": [
    "def Cre(x):\n",
    "    '''\n",
    "    For crew feature:\n",
    "    Input a string of JSON, get the values for which the\n",
    "    keys are \"name\"(name of directors) then convert the string into a list\n",
    "    '''\n",
    "    x = re.sub(\"\\\"[^\\\"]*\\\",\",\"null,\",x)\n",
    "    x = x.replace(\"\\\"\", \"\")\n",
    "    x = x.replace(\"\\'\",\"\\\"\").replace(\"None\",\"null\")\n",
    "    x = re.sub(r'\\\\','',x)\n",
    "    x_json = json.loads(x)\n",
    "    x_list = [i['name'] for i in x_json if i['job'] == 'Director' ]\n",
    "    \n",
    "    if len(x_list) == 0:\n",
    "        return \n",
    "    return x_list\n",
    "\n",
    "df_c['crew'] = df_c['crew'].apply(Cre)"
   ]
  },
  {
   "cell_type": "markdown",
   "id": "e52a409c",
   "metadata": {},
   "source": [
    "### Combine Into One Function"
   ]
  },
  {
   "cell_type": "code",
   "execution_count": 16,
   "id": "07ae4562",
   "metadata": {},
   "outputs": [
    {
     "data": {
      "text/plain": [
       "cast    2420\n",
       "crew     887\n",
       "id         0\n",
       "dtype: int64"
      ]
     },
     "execution_count": 16,
     "metadata": {},
     "output_type": "execute_result"
    }
   ],
   "source": [
    "# print the null values after cleaning\n",
    "df_c.isna().sum()"
   ]
  },
  {
   "cell_type": "code",
   "execution_count": 17,
   "id": "9bed2269",
   "metadata": {},
   "outputs": [],
   "source": [
    "def PreprocessC(inpath,outpath,save=False):\n",
    "    '''\n",
    "    clean the raw credits.csv dataset\n",
    "    \n",
    "    Params:\n",
    "        path: path of the input dataset(Ex. '../data/raw/credits.csv')\n",
    "        save: specify if the cleaned dataset \n",
    "              need to be saved in the '../data/interim/'\n",
    "    '''\n",
    "    # read data\n",
    "    filename = \"credits.csv\"\n",
    "    df_c = pd.read_csv(inpath+filename)\n",
    "    \n",
    "    # convert the json data\n",
    "    df_c['cast'] = df_c['cast'].apply(Cas)\n",
    "    df_c['crew'] = df_c['crew'].apply(Cre)\n",
    "    \n",
    "    if save:\n",
    "        filename = \"credits_clean.csv\"\n",
    "        df_c.to_csv(outpath+filename)\n",
    "        print(\"the cleaned dataset of credits is saved in {}\".format(outpath))\n",
    "    \n",
    "    return df_c"
   ]
  },
  {
   "cell_type": "markdown",
   "id": "0969af7f",
   "metadata": {},
   "source": [
    "# Keywords"
   ]
  },
  {
   "cell_type": "code",
   "execution_count": 18,
   "id": "013ca38d",
   "metadata": {},
   "outputs": [
    {
     "name": "stdout",
     "output_type": "stream",
     "text": [
      "empty values in keywords: 14795\n"
     ]
    }
   ],
   "source": [
    "# read data\n",
    "df_k = pd.read_csv(\"../data/raw/keywords.csv\")\n",
    "# print nan\n",
    "df_k.isna().sum()\n",
    "# the null values in keywords\n",
    "print(\"empty values in keywords:\", (df_k['keywords'] == \"[]\").sum())"
   ]
  },
  {
   "cell_type": "code",
   "execution_count": 19,
   "id": "5fc5971a",
   "metadata": {},
   "outputs": [],
   "source": [
    "def Keyw(x):\n",
    "    x = re.sub(\"\\\"[^\\\"]*\\\",\",\"null,\",x)\n",
    "    x = re.sub(\"\\\"[^\\\"]*\\\"}\",\"null}\",x)\n",
    "    x = x.replace(\"\\\"\", \"\")\n",
    "    x = x.replace(\"\\'\",\"\\\"\").replace(\"None\",\"null\")\n",
    "    x = re.sub(r'\\\\','',x)\n",
    "    \n",
    "    try:\n",
    "        x_json = json.loads(x)\n",
    "    except:\n",
    "        return\n",
    "    \n",
    "    x_list = [i['name'] for i in x_json]\n",
    "    if len(x_list) == 0:\n",
    "        return \n",
    "    \n",
    "    return x_list\n",
    "\n",
    "df_k['keywords'] = df_k['keywords'].apply(Keyw)"
   ]
  },
  {
   "cell_type": "markdown",
   "id": "8f9c04d9",
   "metadata": {},
   "source": [
    "### Combine Function"
   ]
  },
  {
   "cell_type": "code",
   "execution_count": 20,
   "id": "6287cd6c",
   "metadata": {},
   "outputs": [
    {
     "data": {
      "text/plain": [
       "id              0\n",
       "keywords    14795\n",
       "dtype: int64"
      ]
     },
     "execution_count": 20,
     "metadata": {},
     "output_type": "execute_result"
    }
   ],
   "source": [
    "# check null values\n",
    "df_k.isna().sum()"
   ]
  },
  {
   "cell_type": "code",
   "execution_count": null,
   "id": "19297acd",
   "metadata": {},
   "outputs": [],
   "source": [
    "def PreprocessK(inpath,outpath,save=False):\n",
    "    '''\n",
    "    clean the raw keywords.csv dataset\n",
    "    \n",
    "    Params:\n",
    "        path: path of the input dataset(Ex. '../data/raw/keywords.csv')\n",
    "        save: specify if the cleaned dataset \n",
    "              need to be saved in the '../data/interim/'\n",
    "    '''\n",
    "    # read data\n",
    "    filename = \"keywords.csv\"\n",
    "    df_k = pd.read_csv(inpath+filename)\n",
    "    \n",
    "    # convert the json data\n",
    "    df_k['keywords'] = df_k['keywords'].apply(Keyw)\n",
    "    \n",
    "    if save:\n",
    "        filename = \"keywords_clean.csv\"\n",
    "        df_k.to_csv(outpath+filename)\n",
    "        print(\"the cleaned dataset of keywords is saved in {}\".format(outpath))\n",
    "    \n",
    "    return df_k"
   ]
  }
 ],
 "metadata": {
  "kernelspec": {
   "display_name": "Python 3 (ipykernel)",
   "language": "python",
   "name": "python3"
  },
  "language_info": {
   "codemirror_mode": {
    "name": "ipython",
    "version": 3
   },
   "file_extension": ".py",
   "mimetype": "text/x-python",
   "name": "python",
   "nbconvert_exporter": "python",
   "pygments_lexer": "ipython3",
   "version": "3.8.12"
  }
 },
 "nbformat": 4,
 "nbformat_minor": 5
}
